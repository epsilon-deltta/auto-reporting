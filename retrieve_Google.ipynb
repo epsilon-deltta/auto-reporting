{
 "cells": [
  {
   "cell_type": "code",
   "execution_count": 2,
   "metadata": {},
   "outputs": [],
   "source": [
    "import pandas as pd\n",
    "import numpy as np\n",
    "import seaborn as sns\n",
    "import matplotlib.pyplot as plt\n",
    "import itertools\n",
    "import time\n",
    "import statsmodels.api as sm\n",
    "from sklearn import linear_model\n",
    "from tqdm import tnrange, tqdm_notebook\n",
    "from sklearn.metrics import mean_squared_error\n",
    "from statsmodels.regression.quantile_regression import QuantReg\n",
    "\n",
    "from sklearn.preprocessing import StandardScaler\n",
    "\n",
    "import os\n",
    "\n",
    "from sklearn.model_selection import train_test_split"
   ]
  },
  {
   "cell_type": "code",
   "execution_count": 3,
   "metadata": {},
   "outputs": [],
   "source": [
    "import random as rd"
   ]
  },
  {
   "cell_type": "code",
   "execution_count": 2,
   "metadata": {},
   "outputs": [],
   "source": [
    "df = pd.read_csv('clean_plan.csv')"
   ]
  },
  {
   "cell_type": "code",
   "execution_count": 3,
   "metadata": {},
   "outputs": [
    {
     "data": {
      "text/plain": [
       "Index(['Unnamed: 0', 'date', 'content'], dtype='object')"
      ]
     },
     "execution_count": 3,
     "metadata": {},
     "output_type": "execute_result"
    }
   ],
   "source": [
    "df.columns"
   ]
  },
  {
   "cell_type": "markdown",
   "metadata": {},
   "source": [
    "### Google Search"
   ]
  },
  {
   "cell_type": "code",
   "execution_count": null,
   "metadata": {},
   "outputs": [],
   "source": [
    "# cx : f31c7fa83bc80772c\n"
   ]
  },
  {
   "cell_type": "code",
   "execution_count": 6,
   "metadata": {},
   "outputs": [],
   "source": [
    "def get_keys(path='keys.txt'):\n",
    "    with open(path,'r') as f:\n",
    "        lines = f.readlines()\n",
    "        keys={}\n",
    "        for line in lines:\n",
    "            items = line.split(':',maxsplit=1)\n",
    "    #         print(\"items :\",items)\n",
    "            if '\\n' in items[1]:\n",
    "                items[1] = items[1].replace('\\n','')\n",
    "            keys[items[0]]=items[1]\n",
    "#             cmd = \"%s = \\'%s\\'\"% (items[0],items[1])\n",
    "#             exec(cmd)\n",
    "            print(\"%s was loaded\"%items[0])\n",
    "    return keys"
   ]
  },
  {
   "cell_type": "code",
   "execution_count": 7,
   "metadata": {},
   "outputs": [
    {
     "name": "stdout",
     "output_type": "stream",
     "text": [
      "cs was loaded\n",
      "api_key was loaded\n"
     ]
    }
   ],
   "source": [
    "keys = get_keys()"
   ]
  },
  {
   "cell_type": "code",
   "execution_count": 39,
   "metadata": {
    "collapsed": true,
    "jupyter": {
     "outputs_hidden": true
    }
   },
   "outputs": [
    {
     "name": "stdout",
     "output_type": "stream",
     "text": [
      "Collecting google-api-python-client\n",
      "  Downloading google_api_python_client-1.12.8-py2.py3-none-any.whl (61 kB)\n",
      "Requirement already satisfied: six<2dev,>=1.13.0 in c:\\users\\epsilon\\dev\\anaconda\\envs\\fortf\\lib\\site-packages (from google-api-python-client) (1.15.0)\n",
      "Requirement already satisfied: google-auth>=1.16.0 in c:\\users\\epsilon\\dev\\anaconda\\envs\\fortf\\lib\\site-packages (from google-api-python-client) (1.24.0)\n",
      "Collecting google-api-core<2dev,>=1.21.0\n",
      "  Downloading google_api_core-1.24.1-py2.py3-none-any.whl (92 kB)\n",
      "Requirement already satisfied: protobuf>=3.12.0 in c:\\users\\epsilon\\dev\\anaconda\\envs\\fortf\\lib\\site-packages (from google-api-core<2dev,>=1.21.0->google-api-python-client) (3.13.0)\n",
      "Requirement already satisfied: requests<3.0.0dev,>=2.18.0 in c:\\users\\epsilon\\dev\\anaconda\\envs\\fortf\\lib\\site-packages (from google-api-core<2dev,>=1.21.0->google-api-python-client) (2.25.1)\n",
      "Requirement already satisfied: pytz in c:\\users\\epsilon\\dev\\anaconda\\envs\\fortf\\lib\\site-packages (from google-api-core<2dev,>=1.21.0->google-api-python-client) (2020.5)\n",
      "Requirement already satisfied: setuptools>=34.0.0 in c:\\users\\epsilon\\dev\\anaconda\\envs\\fortf\\lib\\site-packages (from google-api-core<2dev,>=1.21.0->google-api-python-client) (51.0.0.post20201207)\n",
      "Requirement already satisfied: cachetools<5.0,>=2.0.0 in c:\\users\\epsilon\\dev\\anaconda\\envs\\fortf\\lib\\site-packages (from google-auth>=1.16.0->google-api-python-client) (4.2.0)\n",
      "Requirement already satisfied: pyasn1-modules>=0.2.1 in c:\\users\\epsilon\\dev\\anaconda\\envs\\fortf\\lib\\site-packages (from google-auth>=1.16.0->google-api-python-client) (0.2.8)\n",
      "Requirement already satisfied: rsa<5,>=3.1.4 in c:\\users\\epsilon\\dev\\anaconda\\envs\\fortf\\lib\\site-packages (from google-auth>=1.16.0->google-api-python-client) (4.6)\n",
      "Collecting google-auth-httplib2>=0.0.3\n",
      "  Downloading google_auth_httplib2-0.0.4-py2.py3-none-any.whl (9.1 kB)\n",
      "Collecting googleapis-common-protos<2.0dev,>=1.6.0\n",
      "  Downloading googleapis_common_protos-1.52.0-py2.py3-none-any.whl (100 kB)\n",
      "Collecting httplib2<1dev,>=0.15.0\n",
      "  Downloading httplib2-0.18.1-py3-none-any.whl (95 kB)\n",
      "Requirement already satisfied: pyasn1<0.5.0,>=0.4.6 in c:\\users\\epsilon\\dev\\anaconda\\envs\\fortf\\lib\\site-packages (from pyasn1-modules>=0.2.1->google-auth>=1.16.0->google-api-python-client) (0.4.8)\n",
      "Requirement already satisfied: idna<3,>=2.5 in c:\\users\\epsilon\\dev\\anaconda\\envs\\fortf\\lib\\site-packages (from requests<3.0.0dev,>=2.18.0->google-api-core<2dev,>=1.21.0->google-api-python-client) (2.10)\n",
      "Requirement already satisfied: certifi>=2017.4.17 in c:\\users\\epsilon\\dev\\anaconda\\envs\\fortf\\lib\\site-packages (from requests<3.0.0dev,>=2.18.0->google-api-core<2dev,>=1.21.0->google-api-python-client) (2020.12.5)\n",
      "Requirement already satisfied: chardet<5,>=3.0.2 in c:\\users\\epsilon\\dev\\anaconda\\envs\\fortf\\lib\\site-packages (from requests<3.0.0dev,>=2.18.0->google-api-core<2dev,>=1.21.0->google-api-python-client) (3.0.4)\n",
      "Requirement already satisfied: urllib3<1.27,>=1.21.1 in c:\\users\\epsilon\\dev\\anaconda\\envs\\fortf\\lib\\site-packages (from requests<3.0.0dev,>=2.18.0->google-api-core<2dev,>=1.21.0->google-api-python-client) (1.26.2)\n",
      "Collecting uritemplate<4dev,>=3.0.0\n",
      "  Downloading uritemplate-3.0.1-py2.py3-none-any.whl (15 kB)\n",
      "Installing collected packages: httplib2, googleapis-common-protos, uritemplate, google-auth-httplib2, google-api-core, google-api-python-client\n",
      "Successfully installed google-api-core-1.24.1 google-api-python-client-1.12.8 google-auth-httplib2-0.0.4 googleapis-common-protos-1.52.0 httplib2-0.18.1 uritemplate-3.0.1\n"
     ]
    }
   ],
   "source": [
    "# !pip install google-api-python-client"
   ]
  },
  {
   "cell_type": "code",
   "execution_count": 11,
   "metadata": {
    "collapsed": true,
    "jupyter": {
     "outputs_hidden": true
    }
   },
   "outputs": [
    {
     "name": "stdout",
     "output_type": "stream",
     "text": [
      "Collecting google-api-python-client\n",
      "  Using cached google_api_python_client-1.12.8-py2.py3-none-any.whl (61 kB)\n",
      "Collecting google-auth-httplib2>=0.0.3\n",
      "  Using cached google_auth_httplib2-0.0.4-py2.py3-none-any.whl (9.1 kB)\n",
      "Requirement already satisfied: six<2dev,>=1.13.0 in c:\\users\\epsilon\\dev\\anaconda\\lib\\site-packages (from google-api-python-client) (1.15.0)\n",
      "Collecting httplib2<1dev,>=0.15.0\n",
      "  Using cached httplib2-0.18.1-py3-none-any.whl (95 kB)\n",
      "Collecting google-api-core<2dev,>=1.21.0\n",
      "  Downloading google_api_core-1.25.0-py2.py3-none-any.whl (92 kB)\n",
      "Collecting uritemplate<4dev,>=3.0.0\n",
      "  Using cached uritemplate-3.0.1-py2.py3-none-any.whl (15 kB)\n",
      "Collecting google-auth>=1.16.0\n",
      "  Downloading google_auth-1.24.0-py2.py3-none-any.whl (114 kB)\n",
      "Requirement already satisfied: requests<3.0.0dev,>=2.18.0 in c:\\users\\epsilon\\dev\\anaconda\\lib\\site-packages (from google-api-core<2dev,>=1.21.0->google-api-python-client) (2.24.0)\n",
      "Requirement already satisfied: pytz in c:\\users\\epsilon\\dev\\anaconda\\lib\\site-packages (from google-api-core<2dev,>=1.21.0->google-api-python-client) (2020.1)\n",
      "Requirement already satisfied: setuptools>=40.3.0 in c:\\users\\epsilon\\dev\\anaconda\\lib\\site-packages (from google-api-core<2dev,>=1.21.0->google-api-python-client) (50.3.1.post20201107)\n",
      "Collecting protobuf>=3.12.0\n",
      "  Downloading protobuf-3.14.0-py2.py3-none-any.whl (173 kB)\n",
      "Collecting googleapis-common-protos<2.0dev,>=1.6.0\n",
      "  Using cached googleapis_common_protos-1.52.0-py2.py3-none-any.whl (100 kB)\n",
      "Collecting cachetools<5.0,>=2.0.0\n",
      "  Downloading cachetools-4.2.0-py3-none-any.whl (12 kB)\n",
      "Collecting rsa<5,>=3.1.4; python_version >= \"3.6\"\n",
      "  Downloading rsa-4.7-py3-none-any.whl (34 kB)\n",
      "Collecting pyasn1-modules>=0.2.1\n",
      "  Downloading pyasn1_modules-0.2.8-py2.py3-none-any.whl (155 kB)\n",
      "Requirement already satisfied: certifi>=2017.4.17 in c:\\users\\epsilon\\dev\\anaconda\\lib\\site-packages (from requests<3.0.0dev,>=2.18.0->google-api-core<2dev,>=1.21.0->google-api-python-client) (2020.6.20)\n",
      "Requirement already satisfied: urllib3!=1.25.0,!=1.25.1,<1.26,>=1.21.1 in c:\\users\\epsilon\\dev\\anaconda\\lib\\site-packages (from requests<3.0.0dev,>=2.18.0->google-api-core<2dev,>=1.21.0->google-api-python-client) (1.25.11)\n",
      "Requirement already satisfied: chardet<4,>=3.0.2 in c:\\users\\epsilon\\dev\\anaconda\\lib\\site-packages (from requests<3.0.0dev,>=2.18.0->google-api-core<2dev,>=1.21.0->google-api-python-client) (3.0.4)\n",
      "Requirement already satisfied: idna<3,>=2.5 in c:\\users\\epsilon\\dev\\anaconda\\lib\\site-packages (from requests<3.0.0dev,>=2.18.0->google-api-core<2dev,>=1.21.0->google-api-python-client) (2.10)\n",
      "Collecting pyasn1>=0.1.3\n",
      "  Downloading pyasn1-0.4.8-py2.py3-none-any.whl (77 kB)\n",
      "Installing collected packages: cachetools, pyasn1, rsa, pyasn1-modules, google-auth, httplib2, google-auth-httplib2, protobuf, googleapis-common-protos, google-api-core, uritemplate, google-api-python-client\n",
      "Successfully installed cachetools-4.2.0 google-api-core-1.25.0 google-api-python-client-1.12.8 google-auth-1.24.0 google-auth-httplib2-0.0.4 googleapis-common-protos-1.52.0 httplib2-0.18.1 protobuf-3.14.0 pyasn1-0.4.8 pyasn1-modules-0.2.8 rsa-4.7 uritemplate-3.0.1\n"
     ]
    }
   ],
   "source": [
    "!pip install google-api-python-client"
   ]
  },
  {
   "cell_type": "code",
   "execution_count": 12,
   "metadata": {},
   "outputs": [],
   "source": [
    "from googleapiclient.discovery import build\n",
    "import json"
   ]
  },
  {
   "cell_type": "code",
   "execution_count": 13,
   "metadata": {},
   "outputs": [],
   "source": [
    "my_api_key = keys['api_key']\n",
    "my_cse_id = keys['cs']  \n",
    "def google_search(search_term, api_key, cse_id, **kwargs):\n",
    "    service = build(\"customsearch\", \"v1\", developerKey=api_key)\n",
    "    res = service.cse().list(q=search_term, cx=cse_id, **kwargs).execute()\n",
    "    return res"
   ]
  },
  {
   "cell_type": "code",
   "execution_count": 44,
   "metadata": {},
   "outputs": [],
   "source": [
    "# //구글로 검색하기\n",
    "search_result = google_search(\"Python Google Custom Search\", my_api_key, my_cse_id)"
   ]
  },
  {
   "cell_type": "code",
   "execution_count": 50,
   "metadata": {},
   "outputs": [],
   "source": [
    "# search_result :  save results as json \n",
    "with open('search_result_all.json', 'w', encoding='utf-8') as f:\n",
    "    json.dump(search_result, f, ensure_ascii=False, indent=4)\n",
    "# items=search_result['items']"
   ]
  },
  {
   "cell_type": "markdown",
   "metadata": {},
   "source": [
    "#### fill Table Nan into random values "
   ]
  },
  {
   "cell_type": "code",
   "execution_count": 7,
   "metadata": {},
   "outputs": [],
   "source": [
    "faulty = pd.DataFrame(df.content.value_counts())[:5]"
   ]
  },
  {
   "cell_type": "code",
   "execution_count": 8,
   "metadata": {},
   "outputs": [],
   "source": [
    "f_con = faulty.index.tolist()"
   ]
  },
  {
   "cell_type": "code",
   "execution_count": 9,
   "metadata": {},
   "outputs": [
    {
     "data": {
      "text/plain": [
       "['멘토링 멘토링',\n",
       " '기업연계 프로젝트 프로젝트 개발',\n",
       " '파이널 프로젝트 프로젝트 개발',\n",
       " '기업연계 프로젝트 프로젝트 시스템 설계',\n",
       " '특강 특강']"
      ]
     },
     "execution_count": 9,
     "metadata": {},
     "output_type": "execute_result"
    }
   ],
   "source": [
    "f_con"
   ]
  },
  {
   "cell_type": "code",
   "execution_count": 37,
   "metadata": {},
   "outputs": [],
   "source": [
    "df['content'] = df['content'].apply( lambda x : np.nan if (x in f_con) else x )"
   ]
  },
  {
   "cell_type": "code",
   "execution_count": 66,
   "metadata": {},
   "outputs": [
    {
     "data": {
      "text/plain": [
       "'자연어 처리 자연어 처리'"
      ]
     },
     "execution_count": 66,
     "metadata": {},
     "output_type": "execute_result"
    }
   ],
   "source": [
    "rd.sample(contents,k=1)[0]"
   ]
  },
  {
   "cell_type": "code",
   "execution_count": 44,
   "metadata": {},
   "outputs": [],
   "source": [
    "contents = df.content.unique().tolist()"
   ]
  },
  {
   "cell_type": "code",
   "execution_count": 57,
   "metadata": {
    "collapsed": true,
    "jupyter": {
     "outputs_hidden": true
    }
   },
   "outputs": [
    {
     "ename": "ValueError",
     "evalue": "list.remove(x): x not in list",
     "output_type": "error",
     "traceback": [
      "\u001b[1;31m---------------------------------------------------------------------------\u001b[0m",
      "\u001b[1;31mValueError\u001b[0m                                Traceback (most recent call last)",
      "\u001b[1;32m<ipython-input-57-d3c56f695b6b>\u001b[0m in \u001b[0;36m<module>\u001b[1;34m\u001b[0m\n\u001b[1;32m----> 1\u001b[1;33m \u001b[0mcontents\u001b[0m\u001b[1;33m.\u001b[0m\u001b[0mremove\u001b[0m\u001b[1;33m(\u001b[0m\u001b[0mnp\u001b[0m\u001b[1;33m.\u001b[0m\u001b[0mnan\u001b[0m\u001b[1;33m)\u001b[0m\u001b[1;33m\u001b[0m\u001b[1;33m\u001b[0m\u001b[0m\n\u001b[0m",
      "\u001b[1;31mValueError\u001b[0m: list.remove(x): x not in list"
     ]
    }
   ],
   "source": [
    "contents.remove(np.nan)"
   ]
  },
  {
   "cell_type": "code",
   "execution_count": 68,
   "metadata": {},
   "outputs": [],
   "source": [
    "# repl_nan = [rd.sample(contents,k=1)[0] for _ in range(df.content.isna().sum())   ]"
   ]
  },
  {
   "cell_type": "code",
   "execution_count": 150,
   "metadata": {},
   "outputs": [],
   "source": [
    "df['content'] = df.content.apply(lambda x : rd.sample(contents,k=1)[0] if x is np.nan else x )"
   ]
  },
  {
   "cell_type": "markdown",
   "metadata": {},
   "source": [
    "#### json format 'item'>[num]>  \n",
    "#### <pre>              title,link,snippet</pre>"
   ]
  },
  {
   "cell_type": "markdown",
   "metadata": {},
   "source": [
    "#### Extract title , link "
   ]
  },
  {
   "cell_type": "code",
   "execution_count": 156,
   "metadata": {},
   "outputs": [],
   "source": [
    "del df['Unnamed: 0']"
   ]
  },
  {
   "cell_type": "code",
   "execution_count": 160,
   "metadata": {},
   "outputs": [],
   "source": [
    "df['links']  = [ [] for _ in range(len(df) ) ]\n",
    "df['titles'] = [ [] for _ in range(len(df) ) ]"
   ]
  },
  {
   "cell_type": "code",
   "execution_count": 184,
   "metadata": {
    "collapsed": true,
    "jupyter": {
     "outputs_hidden": true
    }
   },
   "outputs": [
    {
     "data": {
      "text/html": [
       "<div>\n",
       "<style scoped>\n",
       "    .dataframe tbody tr th:only-of-type {\n",
       "        vertical-align: middle;\n",
       "    }\n",
       "\n",
       "    .dataframe tbody tr th {\n",
       "        vertical-align: top;\n",
       "    }\n",
       "\n",
       "    .dataframe thead th {\n",
       "        text-align: right;\n",
       "    }\n",
       "</style>\n",
       "<table border=\"1\" class=\"dataframe\">\n",
       "  <thead>\n",
       "    <tr style=\"text-align: right;\">\n",
       "      <th></th>\n",
       "      <th>content</th>\n",
       "      <th>content</th>\n",
       "    </tr>\n",
       "  </thead>\n",
       "  <tbody>\n",
       "    <tr>\n",
       "      <th>0</th>\n",
       "      <td>NaN</td>\n",
       "      <td>기계학습 Ensemble기법</td>\n",
       "    </tr>\n",
       "    <tr>\n",
       "      <th>1</th>\n",
       "      <td>기계학습 Ensemble기법</td>\n",
       "      <td>기계학습 강화학습</td>\n",
       "    </tr>\n",
       "    <tr>\n",
       "      <th>2</th>\n",
       "      <td>기계학습 강화학습</td>\n",
       "      <td>기계학습 강화학습2</td>\n",
       "    </tr>\n",
       "    <tr>\n",
       "      <th>3</th>\n",
       "      <td>기계학습 강화학습2</td>\n",
       "      <td>딥러닝 기본 딥러닝 이해</td>\n",
       "    </tr>\n",
       "    <tr>\n",
       "      <th>4</th>\n",
       "      <td>딥러닝 기본 딥러닝 이해</td>\n",
       "      <td>딥러닝 기본 DNN</td>\n",
       "    </tr>\n",
       "    <tr>\n",
       "      <th>5</th>\n",
       "      <td>딥러닝 기본 DNN</td>\n",
       "      <td>딥러닝 기본 DNN</td>\n",
       "    </tr>\n",
       "    <tr>\n",
       "      <th>6</th>\n",
       "      <td>딥러닝 기본 DNN</td>\n",
       "      <td>딥러닝 기본 CNN</td>\n",
       "    </tr>\n",
       "    <tr>\n",
       "      <th>7</th>\n",
       "      <td>딥러닝 기본 CNN</td>\n",
       "      <td>딥러닝 기본 CNN</td>\n",
       "    </tr>\n",
       "    <tr>\n",
       "      <th>8</th>\n",
       "      <td>딥러닝 기본 CNN</td>\n",
       "      <td>딥러닝 기본 RNN</td>\n",
       "    </tr>\n",
       "    <tr>\n",
       "      <th>9</th>\n",
       "      <td>딥러닝 기본 RNN</td>\n",
       "      <td>딥러닝 기본 RNN</td>\n",
       "    </tr>\n",
       "    <tr>\n",
       "      <th>10</th>\n",
       "      <td>딥러닝 기본 RNN</td>\n",
       "      <td>딥러닝 기본 다양한 딥러닝 기법</td>\n",
       "    </tr>\n",
       "    <tr>\n",
       "      <th>11</th>\n",
       "      <td>딥러닝 기본 다양한 딥러닝 기법</td>\n",
       "      <td>딥러닝 기본 다양한 딥러닝 기법</td>\n",
       "    </tr>\n",
       "    <tr>\n",
       "      <th>12</th>\n",
       "      <td>딥러닝 기본 다양한 딥러닝 기법</td>\n",
       "      <td>자연어 처리 자연어 처리</td>\n",
       "    </tr>\n",
       "    <tr>\n",
       "      <th>13</th>\n",
       "      <td>자연어 처리 자연어 처리</td>\n",
       "      <td>자연어 처리 자연어 처리기술의 이해</td>\n",
       "    </tr>\n",
       "    <tr>\n",
       "      <th>14</th>\n",
       "      <td>자연어 처리 자연어 처리기술의 이해</td>\n",
       "      <td>자연어 처리 자연어처리 시스템의 이해</td>\n",
       "    </tr>\n",
       "    <tr>\n",
       "      <th>15</th>\n",
       "      <td>자연어 처리 자연어처리 시스템의 이해</td>\n",
       "      <td>자연어 처리 기계학습과 자연어처리 시스템</td>\n",
       "    </tr>\n",
       "    <tr>\n",
       "      <th>16</th>\n",
       "      <td>자연어 처리 기계학습과 자연어처리 시스템</td>\n",
       "      <td>자연어 처리 기계학습과 자연어처리 시스템</td>\n",
       "    </tr>\n",
       "    <tr>\n",
       "      <th>17</th>\n",
       "      <td>자연어 처리 기계학습과 자연어처리 시스템</td>\n",
       "      <td>자연어 처리 자연어처리 오픈소스 프로젝트</td>\n",
       "    </tr>\n",
       "    <tr>\n",
       "      <th>18</th>\n",
       "      <td>자연어 처리 자연어처리 오픈소스 프로젝트</td>\n",
       "      <td>자연어 처리 자연어처리 오픈소스 프로젝트</td>\n",
       "    </tr>\n",
       "    <tr>\n",
       "      <th>19</th>\n",
       "      <td>자연어 처리 자연어처리 오픈소스 프로젝트</td>\n",
       "      <td>컴퓨터 비전 픽셀 데이터 처리를 위한 이미지 처리</td>\n",
       "    </tr>\n",
       "    <tr>\n",
       "      <th>20</th>\n",
       "      <td>컴퓨터 비전 픽셀 데이터 처리를 위한 이미지 처리</td>\n",
       "      <td>컴퓨터 비전 픽셀 데이터 처리를 위한 이미지 처리</td>\n",
       "    </tr>\n",
       "    <tr>\n",
       "      <th>21</th>\n",
       "      <td>컴퓨터 비전 픽셀 데이터 처리를 위한 이미지 처리</td>\n",
       "      <td>컴퓨터 비전 시각인지를 위한 딥러닝</td>\n",
       "    </tr>\n",
       "    <tr>\n",
       "      <th>22</th>\n",
       "      <td>컴퓨터 비전 시각인지를 위한 딥러닝</td>\n",
       "      <td>컴퓨터 비전 시각인지를 위한 딥러닝</td>\n",
       "    </tr>\n",
       "    <tr>\n",
       "      <th>23</th>\n",
       "      <td>컴퓨터 비전 시각인지를 위한 딥러닝</td>\n",
       "      <td>컴퓨터 비전 딥러닝 시각 인지 아키텍쳐 이해</td>\n",
       "    </tr>\n",
       "    <tr>\n",
       "      <th>24</th>\n",
       "      <td>컴퓨터 비전 딥러닝 시각 인지 아키텍쳐 이해</td>\n",
       "      <td>컴퓨터 비전 딥러닝 시각 인지 아키텍쳐 이해</td>\n",
       "    </tr>\n",
       "    <tr>\n",
       "      <th>25</th>\n",
       "      <td>컴퓨터 비전 딥러닝 시각 인지 아키텍쳐 이해</td>\n",
       "      <td>컴퓨터 비전 딥러닝 기반 영상처리 프로젝트</td>\n",
       "    </tr>\n",
       "    <tr>\n",
       "      <th>26</th>\n",
       "      <td>컴퓨터 비전 딥러닝 기반 영상처리 프로젝트</td>\n",
       "      <td>컴퓨터 비전 딥러닝 기반 영상처리 프로젝트</td>\n",
       "    </tr>\n",
       "    <tr>\n",
       "      <th>27</th>\n",
       "      <td>컴퓨터 비전 딥러닝 기반 영상처리 프로젝트</td>\n",
       "      <td>지능형 IoT 아두이노 플랫폼</td>\n",
       "    </tr>\n",
       "    <tr>\n",
       "      <th>28</th>\n",
       "      <td>지능형 IoT 아두이노 플랫폼</td>\n",
       "      <td>지능형 IoT 타이젠 플랫폼</td>\n",
       "    </tr>\n",
       "    <tr>\n",
       "      <th>29</th>\n",
       "      <td>지능형 IoT 타이젠 플랫폼</td>\n",
       "      <td>지능형 IoT 사물인터넷 통신</td>\n",
       "    </tr>\n",
       "    <tr>\n",
       "      <th>30</th>\n",
       "      <td>지능형 IoT 사물인터넷 통신</td>\n",
       "      <td>지능형 IoT 딥러닝 지능형 IoT</td>\n",
       "    </tr>\n",
       "    <tr>\n",
       "      <th>31</th>\n",
       "      <td>지능형 IoT 딥러닝 지능형 IoT</td>\n",
       "      <td>자연어 처리 자연어 처리기술의 이해</td>\n",
       "    </tr>\n",
       "    <tr>\n",
       "      <th>32</th>\n",
       "      <td>자연어 처리 자연어 처리기술의 이해</td>\n",
       "      <td>세미 프로젝트1 프로젝트 시스템 설계</td>\n",
       "    </tr>\n",
       "    <tr>\n",
       "      <th>33</th>\n",
       "      <td>세미 프로젝트1 프로젝트 시스템 설계</td>\n",
       "      <td>딥러닝 기본 딥러닝 이해</td>\n",
       "    </tr>\n",
       "    <tr>\n",
       "      <th>34</th>\n",
       "      <td>딥러닝 기본 딥러닝 이해</td>\n",
       "      <td>세미 프로젝트1 파이썬 응용프로젝트 계획</td>\n",
       "    </tr>\n",
       "    <tr>\n",
       "      <th>35</th>\n",
       "      <td>세미 프로젝트1 파이썬 응용프로젝트 계획</td>\n",
       "      <td>세미 프로젝트1 스케쥴링과 인프라 구축</td>\n",
       "    </tr>\n",
       "    <tr>\n",
       "      <th>36</th>\n",
       "      <td>세미 프로젝트1 스케쥴링과 인프라 구축</td>\n",
       "      <td>세미 프로젝트1 프로젝트 시스템 설계</td>\n",
       "    </tr>\n",
       "    <tr>\n",
       "      <th>37</th>\n",
       "      <td>세미 프로젝트1 프로젝트 시스템 설계</td>\n",
       "      <td>세미 프로젝트1 프로젝트 개발</td>\n",
       "    </tr>\n",
       "    <tr>\n",
       "      <th>38</th>\n",
       "      <td>세미 프로젝트1 프로젝트 개발</td>\n",
       "      <td>세미 프로젝트1 프로젝트 테스트</td>\n",
       "    </tr>\n",
       "    <tr>\n",
       "      <th>39</th>\n",
       "      <td>세미 프로젝트1 프로젝트 테스트</td>\n",
       "      <td>지능형 IoT 타이젠 플랫폼</td>\n",
       "    </tr>\n",
       "    <tr>\n",
       "      <th>40</th>\n",
       "      <td>지능형 IoT 타이젠 플랫폼</td>\n",
       "      <td>세미 프로젝트2 추론탐색알고리즘 프로젝트 계획</td>\n",
       "    </tr>\n",
       "    <tr>\n",
       "      <th>41</th>\n",
       "      <td>세미 프로젝트2 추론탐색알고리즘 프로젝트 계획</td>\n",
       "      <td>세미 프로젝트2 스케쥴링과 인프라 구축</td>\n",
       "    </tr>\n",
       "    <tr>\n",
       "      <th>42</th>\n",
       "      <td>세미 프로젝트2 스케쥴링과 인프라 구축</td>\n",
       "      <td>세미 프로젝트2 프로젝트 기획</td>\n",
       "    </tr>\n",
       "    <tr>\n",
       "      <th>43</th>\n",
       "      <td>세미 프로젝트2 프로젝트 기획</td>\n",
       "      <td>세미 프로젝트2 프로젝트 시스템 설계</td>\n",
       "    </tr>\n",
       "    <tr>\n",
       "      <th>44</th>\n",
       "      <td>세미 프로젝트2 프로젝트 시스템 설계</td>\n",
       "      <td>컴퓨터 비전 픽셀 데이터 처리를 위한 이미지 처리</td>\n",
       "    </tr>\n",
       "    <tr>\n",
       "      <th>45</th>\n",
       "      <td>컴퓨터 비전 픽셀 데이터 처리를 위한 이미지 처리</td>\n",
       "      <td>세미 프로젝트2 프로젝트 개발</td>\n",
       "    </tr>\n",
       "    <tr>\n",
       "      <th>46</th>\n",
       "      <td>세미 프로젝트2 프로젝트 개발</td>\n",
       "      <td>세미 프로젝트2 프로젝트 개발</td>\n",
       "    </tr>\n",
       "    <tr>\n",
       "      <th>47</th>\n",
       "      <td>세미 프로젝트2 프로젝트 개발</td>\n",
       "      <td>세미 프로젝트2 프로젝트 테스트</td>\n",
       "    </tr>\n",
       "    <tr>\n",
       "      <th>48</th>\n",
       "      <td>세미 프로젝트2 프로젝트 테스트</td>\n",
       "      <td>세미 프로젝트2 프로젝트 테스트</td>\n",
       "    </tr>\n",
       "    <tr>\n",
       "      <th>49</th>\n",
       "      <td>세미 프로젝트2 프로젝트 테스트</td>\n",
       "      <td>컴퓨터 비전 딥러닝 기반 영상처리 프로젝트</td>\n",
       "    </tr>\n",
       "    <tr>\n",
       "      <th>50</th>\n",
       "      <td>컴퓨터 비전 딥러닝 기반 영상처리 프로젝트</td>\n",
       "      <td>기계학습 강화학습</td>\n",
       "    </tr>\n",
       "    <tr>\n",
       "      <th>51</th>\n",
       "      <td>기계학습 강화학습</td>\n",
       "      <td>파이널 프로젝트 데이터분석 시각화 프로젝트 계획</td>\n",
       "    </tr>\n",
       "    <tr>\n",
       "      <th>52</th>\n",
       "      <td>파이널 프로젝트 데이터분석 시각화 프로젝트 계획</td>\n",
       "      <td>파이널 프로젝트 스케줄링과 인프라 구축</td>\n",
       "    </tr>\n",
       "    <tr>\n",
       "      <th>53</th>\n",
       "      <td>파이널 프로젝트 스케줄링과 인프라 구축</td>\n",
       "      <td>파이널 프로젝트 프로젝트 기획</td>\n",
       "    </tr>\n",
       "    <tr>\n",
       "      <th>54</th>\n",
       "      <td>파이널 프로젝트 프로젝트 기획</td>\n",
       "      <td>세미 프로젝트1 파이썬 응용프로젝트 계획</td>\n",
       "    </tr>\n",
       "    <tr>\n",
       "      <th>55</th>\n",
       "      <td>세미 프로젝트1 파이썬 응용프로젝트 계획</td>\n",
       "      <td>파이널 프로젝트 프로젝트 시스템 설계</td>\n",
       "    </tr>\n",
       "    <tr>\n",
       "      <th>56</th>\n",
       "      <td>파이널 프로젝트 프로젝트 시스템 설계</td>\n",
       "      <td>파이널 프로젝트 프로젝트 시스템 설계</td>\n",
       "    </tr>\n",
       "    <tr>\n",
       "      <th>57</th>\n",
       "      <td>파이널 프로젝트 프로젝트 시스템 설계</td>\n",
       "      <td>세미 프로젝트2 스케쥴링과 인프라 구축</td>\n",
       "    </tr>\n",
       "    <tr>\n",
       "      <th>58</th>\n",
       "      <td>세미 프로젝트2 스케쥴링과 인프라 구축</td>\n",
       "      <td>컴퓨터 비전 시각인지를 위한 딥러닝</td>\n",
       "    </tr>\n",
       "    <tr>\n",
       "      <th>59</th>\n",
       "      <td>컴퓨터 비전 시각인지를 위한 딥러닝</td>\n",
       "      <td>파이널 프로젝트 프로젝트 기획</td>\n",
       "    </tr>\n",
       "    <tr>\n",
       "      <th>60</th>\n",
       "      <td>파이널 프로젝트 프로젝트 기획</td>\n",
       "      <td>지능형 IoT 딥러닝 지능형 IoT</td>\n",
       "    </tr>\n",
       "    <tr>\n",
       "      <th>61</th>\n",
       "      <td>지능형 IoT 딥러닝 지능형 IoT</td>\n",
       "      <td>지능형 IoT 사물인터넷 통신</td>\n",
       "    </tr>\n",
       "    <tr>\n",
       "      <th>62</th>\n",
       "      <td>지능형 IoT 사물인터넷 통신</td>\n",
       "      <td>세미 프로젝트1 파이썬 응용프로젝트 계획</td>\n",
       "    </tr>\n",
       "    <tr>\n",
       "      <th>63</th>\n",
       "      <td>세미 프로젝트1 파이썬 응용프로젝트 계획</td>\n",
       "      <td>파이널 프로젝트 프로젝트 테스트</td>\n",
       "    </tr>\n",
       "    <tr>\n",
       "      <th>64</th>\n",
       "      <td>파이널 프로젝트 프로젝트 테스트</td>\n",
       "      <td>기계학습 Ensemble기법</td>\n",
       "    </tr>\n",
       "    <tr>\n",
       "      <th>65</th>\n",
       "      <td>기계학습 Ensemble기법</td>\n",
       "      <td>파이널 프로젝트 프로젝트 테스트</td>\n",
       "    </tr>\n",
       "    <tr>\n",
       "      <th>66</th>\n",
       "      <td>파이널 프로젝트 프로젝트 테스트</td>\n",
       "      <td>기업연계 프로젝트 팀 빌딩과 프로젝트 계획</td>\n",
       "    </tr>\n",
       "    <tr>\n",
       "      <th>67</th>\n",
       "      <td>기업연계 프로젝트 팀 빌딩과 프로젝트 계획</td>\n",
       "      <td>기업연계 프로젝트 스케쥴링과 인프라 구축</td>\n",
       "    </tr>\n",
       "    <tr>\n",
       "      <th>68</th>\n",
       "      <td>기업연계 프로젝트 스케쥴링과 인프라 구축</td>\n",
       "      <td>자연어 처리 자연어 처리기술의 이해</td>\n",
       "    </tr>\n",
       "    <tr>\n",
       "      <th>69</th>\n",
       "      <td>자연어 처리 자연어 처리기술의 이해</td>\n",
       "      <td>기업연계 프로젝트 프로젝트 기획</td>\n",
       "    </tr>\n",
       "    <tr>\n",
       "      <th>70</th>\n",
       "      <td>기업연계 프로젝트 프로젝트 기획</td>\n",
       "      <td>기업연계 프로젝트 프로젝트 기획</td>\n",
       "    </tr>\n",
       "    <tr>\n",
       "      <th>71</th>\n",
       "      <td>기업연계 프로젝트 프로젝트 기획</td>\n",
       "      <td>기업연계 프로젝트 프로젝트 테스트</td>\n",
       "    </tr>\n",
       "    <tr>\n",
       "      <th>72</th>\n",
       "      <td>기업연계 프로젝트 프로젝트 테스트</td>\n",
       "      <td>기업연계 프로젝트 팀 빌딩과 프로젝트 계획</td>\n",
       "    </tr>\n",
       "    <tr>\n",
       "      <th>73</th>\n",
       "      <td>기업연계 프로젝트 팀 빌딩과 프로젝트 계획</td>\n",
       "      <td>기계학습 Ensemble기법</td>\n",
       "    </tr>\n",
       "    <tr>\n",
       "      <th>74</th>\n",
       "      <td>기계학습 Ensemble기법</td>\n",
       "      <td>파이널 프로젝트 프로젝트 테스트</td>\n",
       "    </tr>\n",
       "    <tr>\n",
       "      <th>75</th>\n",
       "      <td>파이널 프로젝트 프로젝트 테스트</td>\n",
       "      <td>기계학습 Ensemble기법</td>\n",
       "    </tr>\n",
       "    <tr>\n",
       "      <th>76</th>\n",
       "      <td>기계학습 Ensemble기법</td>\n",
       "      <td>기계학습 강화학습</td>\n",
       "    </tr>\n",
       "    <tr>\n",
       "      <th>77</th>\n",
       "      <td>기계학습 강화학습</td>\n",
       "      <td>세미 프로젝트2 프로젝트 기획</td>\n",
       "    </tr>\n",
       "    <tr>\n",
       "      <th>78</th>\n",
       "      <td>세미 프로젝트2 프로젝트 기획</td>\n",
       "      <td>자연어 처리 기계학습과 자연어처리 시스템</td>\n",
       "    </tr>\n",
       "    <tr>\n",
       "      <th>79</th>\n",
       "      <td>자연어 처리 기계학습과 자연어처리 시스템</td>\n",
       "      <td>딥러닝 기본 CNN</td>\n",
       "    </tr>\n",
       "    <tr>\n",
       "      <th>80</th>\n",
       "      <td>딥러닝 기본 CNN</td>\n",
       "      <td>컴퓨터 비전 딥러닝 기반 영상처리 프로젝트</td>\n",
       "    </tr>\n",
       "    <tr>\n",
       "      <th>81</th>\n",
       "      <td>컴퓨터 비전 딥러닝 기반 영상처리 프로젝트</td>\n",
       "      <td>파이널 프로젝트 프로젝트 시스템 설계</td>\n",
       "    </tr>\n",
       "    <tr>\n",
       "      <th>82</th>\n",
       "      <td>파이널 프로젝트 프로젝트 시스템 설계</td>\n",
       "      <td>세미 프로젝트2 프로젝트 개발</td>\n",
       "    </tr>\n",
       "    <tr>\n",
       "      <th>83</th>\n",
       "      <td>세미 프로젝트2 프로젝트 개발</td>\n",
       "      <td>파이널 프로젝트 프로젝트 시스템 설계</td>\n",
       "    </tr>\n",
       "    <tr>\n",
       "      <th>84</th>\n",
       "      <td>파이널 프로젝트 프로젝트 시스템 설계</td>\n",
       "      <td>기업연계 프로젝트 팀 빌딩과 프로젝트 계획</td>\n",
       "    </tr>\n",
       "    <tr>\n",
       "      <th>85</th>\n",
       "      <td>기업연계 프로젝트 팀 빌딩과 프로젝트 계획</td>\n",
       "      <td>지능형 IoT 아두이노 플랫폼</td>\n",
       "    </tr>\n",
       "    <tr>\n",
       "      <th>86</th>\n",
       "      <td>지능형 IoT 아두이노 플랫폼</td>\n",
       "      <td>지능형 IoT 사물인터넷 통신</td>\n",
       "    </tr>\n",
       "    <tr>\n",
       "      <th>87</th>\n",
       "      <td>지능형 IoT 사물인터넷 통신</td>\n",
       "      <td>세미 프로젝트2 스케쥴링과 인프라 구축</td>\n",
       "    </tr>\n",
       "    <tr>\n",
       "      <th>88</th>\n",
       "      <td>세미 프로젝트2 스케쥴링과 인프라 구축</td>\n",
       "      <td>딥러닝 기본 DNN</td>\n",
       "    </tr>\n",
       "    <tr>\n",
       "      <th>89</th>\n",
       "      <td>딥러닝 기본 DNN</td>\n",
       "      <td>기업연계 프로젝트 프로젝트 테스트</td>\n",
       "    </tr>\n",
       "    <tr>\n",
       "      <th>90</th>\n",
       "      <td>기업연계 프로젝트 프로젝트 테스트</td>\n",
       "      <td>기업연계 프로젝트 프로젝트 테스트</td>\n",
       "    </tr>\n",
       "  </tbody>\n",
       "</table>\n",
       "</div>"
      ],
      "text/plain": [
       "                        content                      content\n",
       "0                           NaN              기계학습 Ensemble기법\n",
       "1               기계학습 Ensemble기법                    기계학습 강화학습\n",
       "2                     기계학습 강화학습                   기계학습 강화학습2\n",
       "3                    기계학습 강화학습2                딥러닝 기본 딥러닝 이해\n",
       "4                 딥러닝 기본 딥러닝 이해                   딥러닝 기본 DNN\n",
       "5                    딥러닝 기본 DNN                   딥러닝 기본 DNN\n",
       "6                    딥러닝 기본 DNN                   딥러닝 기본 CNN\n",
       "7                    딥러닝 기본 CNN                   딥러닝 기본 CNN\n",
       "8                    딥러닝 기본 CNN                   딥러닝 기본 RNN\n",
       "9                    딥러닝 기본 RNN                   딥러닝 기본 RNN\n",
       "10                   딥러닝 기본 RNN            딥러닝 기본 다양한 딥러닝 기법\n",
       "11            딥러닝 기본 다양한 딥러닝 기법            딥러닝 기본 다양한 딥러닝 기법\n",
       "12            딥러닝 기본 다양한 딥러닝 기법                자연어 처리 자연어 처리\n",
       "13                자연어 처리 자연어 처리          자연어 처리 자연어 처리기술의 이해\n",
       "14          자연어 처리 자연어 처리기술의 이해         자연어 처리 자연어처리 시스템의 이해\n",
       "15         자연어 처리 자연어처리 시스템의 이해       자연어 처리 기계학습과 자연어처리 시스템\n",
       "16       자연어 처리 기계학습과 자연어처리 시스템       자연어 처리 기계학습과 자연어처리 시스템\n",
       "17       자연어 처리 기계학습과 자연어처리 시스템       자연어 처리 자연어처리 오픈소스 프로젝트\n",
       "18       자연어 처리 자연어처리 오픈소스 프로젝트       자연어 처리 자연어처리 오픈소스 프로젝트\n",
       "19       자연어 처리 자연어처리 오픈소스 프로젝트  컴퓨터 비전 픽셀 데이터 처리를 위한 이미지 처리\n",
       "20  컴퓨터 비전 픽셀 데이터 처리를 위한 이미지 처리  컴퓨터 비전 픽셀 데이터 처리를 위한 이미지 처리\n",
       "21  컴퓨터 비전 픽셀 데이터 처리를 위한 이미지 처리          컴퓨터 비전 시각인지를 위한 딥러닝\n",
       "22          컴퓨터 비전 시각인지를 위한 딥러닝          컴퓨터 비전 시각인지를 위한 딥러닝\n",
       "23          컴퓨터 비전 시각인지를 위한 딥러닝     컴퓨터 비전 딥러닝 시각 인지 아키텍쳐 이해\n",
       "24     컴퓨터 비전 딥러닝 시각 인지 아키텍쳐 이해     컴퓨터 비전 딥러닝 시각 인지 아키텍쳐 이해\n",
       "25     컴퓨터 비전 딥러닝 시각 인지 아키텍쳐 이해      컴퓨터 비전 딥러닝 기반 영상처리 프로젝트\n",
       "26      컴퓨터 비전 딥러닝 기반 영상처리 프로젝트      컴퓨터 비전 딥러닝 기반 영상처리 프로젝트\n",
       "27      컴퓨터 비전 딥러닝 기반 영상처리 프로젝트             지능형 IoT 아두이노 플랫폼\n",
       "28             지능형 IoT 아두이노 플랫폼              지능형 IoT 타이젠 플랫폼\n",
       "29              지능형 IoT 타이젠 플랫폼             지능형 IoT 사물인터넷 통신\n",
       "30             지능형 IoT 사물인터넷 통신          지능형 IoT 딥러닝 지능형 IoT\n",
       "31          지능형 IoT 딥러닝 지능형 IoT          자연어 처리 자연어 처리기술의 이해\n",
       "32          자연어 처리 자연어 처리기술의 이해         세미 프로젝트1 프로젝트 시스템 설계\n",
       "33         세미 프로젝트1 프로젝트 시스템 설계                딥러닝 기본 딥러닝 이해\n",
       "34                딥러닝 기본 딥러닝 이해       세미 프로젝트1 파이썬 응용프로젝트 계획\n",
       "35       세미 프로젝트1 파이썬 응용프로젝트 계획        세미 프로젝트1 스케쥴링과 인프라 구축\n",
       "36        세미 프로젝트1 스케쥴링과 인프라 구축         세미 프로젝트1 프로젝트 시스템 설계\n",
       "37         세미 프로젝트1 프로젝트 시스템 설계             세미 프로젝트1 프로젝트 개발\n",
       "38             세미 프로젝트1 프로젝트 개발            세미 프로젝트1 프로젝트 테스트\n",
       "39            세미 프로젝트1 프로젝트 테스트              지능형 IoT 타이젠 플랫폼\n",
       "40              지능형 IoT 타이젠 플랫폼    세미 프로젝트2 추론탐색알고리즘 프로젝트 계획\n",
       "41    세미 프로젝트2 추론탐색알고리즘 프로젝트 계획        세미 프로젝트2 스케쥴링과 인프라 구축\n",
       "42        세미 프로젝트2 스케쥴링과 인프라 구축             세미 프로젝트2 프로젝트 기획\n",
       "43             세미 프로젝트2 프로젝트 기획         세미 프로젝트2 프로젝트 시스템 설계\n",
       "44         세미 프로젝트2 프로젝트 시스템 설계  컴퓨터 비전 픽셀 데이터 처리를 위한 이미지 처리\n",
       "45  컴퓨터 비전 픽셀 데이터 처리를 위한 이미지 처리             세미 프로젝트2 프로젝트 개발\n",
       "46             세미 프로젝트2 프로젝트 개발             세미 프로젝트2 프로젝트 개발\n",
       "47             세미 프로젝트2 프로젝트 개발            세미 프로젝트2 프로젝트 테스트\n",
       "48            세미 프로젝트2 프로젝트 테스트            세미 프로젝트2 프로젝트 테스트\n",
       "49            세미 프로젝트2 프로젝트 테스트      컴퓨터 비전 딥러닝 기반 영상처리 프로젝트\n",
       "50      컴퓨터 비전 딥러닝 기반 영상처리 프로젝트                    기계학습 강화학습\n",
       "51                    기계학습 강화학습   파이널 프로젝트 데이터분석 시각화 프로젝트 계획\n",
       "52   파이널 프로젝트 데이터분석 시각화 프로젝트 계획        파이널 프로젝트 스케줄링과 인프라 구축\n",
       "53        파이널 프로젝트 스케줄링과 인프라 구축             파이널 프로젝트 프로젝트 기획\n",
       "54             파이널 프로젝트 프로젝트 기획       세미 프로젝트1 파이썬 응용프로젝트 계획\n",
       "55       세미 프로젝트1 파이썬 응용프로젝트 계획         파이널 프로젝트 프로젝트 시스템 설계\n",
       "56         파이널 프로젝트 프로젝트 시스템 설계         파이널 프로젝트 프로젝트 시스템 설계\n",
       "57         파이널 프로젝트 프로젝트 시스템 설계        세미 프로젝트2 스케쥴링과 인프라 구축\n",
       "58        세미 프로젝트2 스케쥴링과 인프라 구축          컴퓨터 비전 시각인지를 위한 딥러닝\n",
       "59          컴퓨터 비전 시각인지를 위한 딥러닝             파이널 프로젝트 프로젝트 기획\n",
       "60             파이널 프로젝트 프로젝트 기획          지능형 IoT 딥러닝 지능형 IoT\n",
       "61          지능형 IoT 딥러닝 지능형 IoT             지능형 IoT 사물인터넷 통신\n",
       "62             지능형 IoT 사물인터넷 통신       세미 프로젝트1 파이썬 응용프로젝트 계획\n",
       "63       세미 프로젝트1 파이썬 응용프로젝트 계획            파이널 프로젝트 프로젝트 테스트\n",
       "64            파이널 프로젝트 프로젝트 테스트              기계학습 Ensemble기법\n",
       "65              기계학습 Ensemble기법            파이널 프로젝트 프로젝트 테스트\n",
       "66            파이널 프로젝트 프로젝트 테스트      기업연계 프로젝트 팀 빌딩과 프로젝트 계획\n",
       "67      기업연계 프로젝트 팀 빌딩과 프로젝트 계획       기업연계 프로젝트 스케쥴링과 인프라 구축\n",
       "68       기업연계 프로젝트 스케쥴링과 인프라 구축          자연어 처리 자연어 처리기술의 이해\n",
       "69          자연어 처리 자연어 처리기술의 이해            기업연계 프로젝트 프로젝트 기획\n",
       "70            기업연계 프로젝트 프로젝트 기획            기업연계 프로젝트 프로젝트 기획\n",
       "71            기업연계 프로젝트 프로젝트 기획           기업연계 프로젝트 프로젝트 테스트\n",
       "72           기업연계 프로젝트 프로젝트 테스트      기업연계 프로젝트 팀 빌딩과 프로젝트 계획\n",
       "73      기업연계 프로젝트 팀 빌딩과 프로젝트 계획              기계학습 Ensemble기법\n",
       "74              기계학습 Ensemble기법            파이널 프로젝트 프로젝트 테스트\n",
       "75            파이널 프로젝트 프로젝트 테스트              기계학습 Ensemble기법\n",
       "76              기계학습 Ensemble기법                    기계학습 강화학습\n",
       "77                    기계학습 강화학습             세미 프로젝트2 프로젝트 기획\n",
       "78             세미 프로젝트2 프로젝트 기획       자연어 처리 기계학습과 자연어처리 시스템\n",
       "79       자연어 처리 기계학습과 자연어처리 시스템                   딥러닝 기본 CNN\n",
       "80                   딥러닝 기본 CNN      컴퓨터 비전 딥러닝 기반 영상처리 프로젝트\n",
       "81      컴퓨터 비전 딥러닝 기반 영상처리 프로젝트         파이널 프로젝트 프로젝트 시스템 설계\n",
       "82         파이널 프로젝트 프로젝트 시스템 설계             세미 프로젝트2 프로젝트 개발\n",
       "83             세미 프로젝트2 프로젝트 개발         파이널 프로젝트 프로젝트 시스템 설계\n",
       "84         파이널 프로젝트 프로젝트 시스템 설계      기업연계 프로젝트 팀 빌딩과 프로젝트 계획\n",
       "85      기업연계 프로젝트 팀 빌딩과 프로젝트 계획             지능형 IoT 아두이노 플랫폼\n",
       "86             지능형 IoT 아두이노 플랫폼             지능형 IoT 사물인터넷 통신\n",
       "87             지능형 IoT 사물인터넷 통신        세미 프로젝트2 스케쥴링과 인프라 구축\n",
       "88        세미 프로젝트2 스케쥴링과 인프라 구축                   딥러닝 기본 DNN\n",
       "89                   딥러닝 기본 DNN           기업연계 프로젝트 프로젝트 테스트\n",
       "90           기업연계 프로젝트 프로젝트 테스트           기업연계 프로젝트 프로젝트 테스트"
      ]
     },
     "execution_count": 184,
     "metadata": {},
     "output_type": "execute_result"
    }
   ],
   "source": [
    "pd.concat([pdf(df.content.shift(1)),pdf(df.content)],axis=1)"
   ]
  },
  {
   "cell_type": "code",
   "execution_count": 186,
   "metadata": {},
   "outputs": [],
   "source": [
    "df_dpc = df.content.shift(1) == df.content"
   ]
  },
  {
   "cell_type": "code",
   "execution_count": 207,
   "metadata": {},
   "outputs": [],
   "source": [
    "df.loc[df_dpc.replace({True:False,False:True}),'count']=0"
   ]
  },
  {
   "cell_type": "code",
   "execution_count": 248,
   "metadata": {},
   "outputs": [],
   "source": [
    "df.rename(columns = {'count':'num'},inplace=True)"
   ]
  },
  {
   "cell_type": "code",
   "execution_count": 257,
   "metadata": {},
   "outputs": [],
   "source": [
    "tt = df.num.copy()"
   ]
  },
  {
   "cell_type": "markdown",
   "metadata": {},
   "source": [
    "### df.num 생성 "
   ]
  },
  {
   "cell_type": "code",
   "execution_count": 272,
   "metadata": {},
   "outputs": [
    {
     "name": "stdout",
     "output_type": "stream",
     "text": [
      "<class 'pandas.core.frame.DataFrame'>\n",
      "RangeIndex: 91 entries, 0 to 90\n",
      "Data columns (total 5 columns):\n",
      " #   Column   Non-Null Count  Dtype  \n",
      "---  ------   --------------  -----  \n",
      " 0   date     91 non-null     int64  \n",
      " 1   content  91 non-null     object \n",
      " 2   links    91 non-null     object \n",
      " 3   titles   91 non-null     object \n",
      " 4   num      76 non-null     float64\n",
      "dtypes: float64(1), int64(1), object(3)\n",
      "memory usage: 3.7+ KB\n"
     ]
    }
   ],
   "source": [
    "df.info()"
   ]
  },
  {
   "cell_type": "code",
   "execution_count": 321,
   "metadata": {},
   "outputs": [
    {
     "data": {
      "text/plain": [
       "True"
      ]
     },
     "execution_count": 321,
     "metadata": {},
     "output_type": "execute_result"
    }
   ],
   "source": [
    "np.isnan(df.num[5])"
   ]
  },
  {
   "cell_type": "code",
   "execution_count": 299,
   "metadata": {},
   "outputs": [
    {
     "data": {
      "text/plain": [
       "numpy.float64"
      ]
     },
     "execution_count": 299,
     "metadata": {},
     "output_type": "execute_result"
    }
   ],
   "source": [
    "type(df.num.iloc[5])"
   ]
  },
  {
   "cell_type": "code",
   "execution_count": 326,
   "metadata": {},
   "outputs": [],
   "source": [
    "def func(con):\n",
    "    ctnt = con.copy()\n",
    "    for x in range(len(con)):\n",
    "        if np.isnan(ctnt.iloc[x] ) :\n",
    "            con.iloc[x] = con.iloc[x-1]+1\n",
    "    return con"
   ]
  },
  {
   "cell_type": "code",
   "execution_count": 327,
   "metadata": {},
   "outputs": [],
   "source": [
    "df['num'] = df[['num']].apply(func)"
   ]
  },
  {
   "cell_type": "code",
   "execution_count": 330,
   "metadata": {},
   "outputs": [],
   "source": [
    "df.to_csv('developed_plan.csv')"
   ]
  },
  {
   "cell_type": "markdown",
   "metadata": {},
   "source": [
    "### GET MODIFIED PLAN"
   ]
  },
  {
   "cell_type": "code",
   "execution_count": 4,
   "metadata": {},
   "outputs": [],
   "source": [
    "df = pd.read_csv('developed_plan.csv')"
   ]
  },
  {
   "cell_type": "code",
   "execution_count": 14,
   "metadata": {},
   "outputs": [],
   "source": [
    "with open('search_result_all.json','r') as f:\n",
    "    dt = json.load(f)"
   ]
  },
  {
   "cell_type": "markdown",
   "metadata": {},
   "source": [
    "### scratch title,link,snippet  from google"
   ]
  },
  {
   "cell_type": "code",
   "execution_count": 58,
   "metadata": {},
   "outputs": [],
   "source": [
    "df['snippets'] = [list() for _ in range(len(df))]"
   ]
  },
  {
   "cell_type": "code",
   "execution_count": 132,
   "metadata": {
    "collapsed": true,
    "jupyter": {
     "outputs_hidden": true
    }
   },
   "outputs": [
    {
     "name": "stdout",
     "output_type": "stream",
     "text": [
      "0 titles : 앙상블\n",
      "1 titles : Improving Quantum Computation with Classical Machine Learning\n",
      "2 titles : Machine Learning and Visual Computing Laboratory\n",
      "3 titles : 처음 배우는 딥러닝 수학: 그림으로 이해하고 엑셀로 확인하는 딥러닝 ...\n",
      "4 titles : [SAS로 딥러닝 시작하기#1]기본 DNN, 배치 정규화를 사용한 DNN ...\n",
      "5 titles : WO2019074195A1 - A deep learning-based image comparison ...\n",
      "6 titles : [SAS로 딥러닝 시작하기#1]기본 DNN, 배치 정규화를 사용한 DNN ...\n",
      "7 titles : Machine Learning Glossary | Google Developers\n",
      "8 titles : RNN and LSTM - lhparkdeep\n",
      "9 titles : 모두의 딥러닝 개정 2판: 자연어 처리, GAN, 오토인코더, 전이 학습 등 ...\n",
      "10 titles : [SAS로 딥러닝 시작하기#1]기본 DNN, 배치 정규화를 사용한 DNN ...\n",
      "11 titles : 가장 빨리 만나는 딥러닝 with Caffe: 인공지능, 기계 학습, 이제는 딥 ...\n",
      "12 titles : Cloud Natural Language | Google Cloud\n",
      "13 titles : KR20070037969A - 자연어처리를 이용한 데이터베이스 검색 시스템 ...\n",
      "14 titles : KR20170030297A - 자연어 처리 시스템, 자연어 처리 장치, 자연어 ...\n",
      "15 titles : Cloud Natural Language | Google Cloud\n",
      "16 titles : 구성원 - hallymnlp\n",
      "17 titles : 일래스틱서치를 활용한 자연어 처리와 정보검색 세트(에이콘 오픈소스 ...\n",
      "18 titles : AI Platform 및 BERT를 사용하여 자연어 처리 통합 | 솔루션 | Google ...\n",
      "19 titles : 이미지 처리 기초\n",
      "20 titles : KR20140050741A - 머신 비전용 망막 인코더 - Google Patents\n",
      "21 titles : Ju Yong Chang, Ph.D.\n",
      "22 titles : KR101850286B1 - 딥 러닝 기반 cctv용 영상 인식 방법 - Google Patents\n",
      "23 titles : 강의_인간에이전트와 AI - Google Slides\n",
      "24 titles : [(주)하나금융티아이] 하나금융융합기술원 AI·Bigdata 석,박사 연구원 ...\n",
      "25 titles : Yong Ju Jung (정용주)\n",
      "26 titles : Computational Intelligence Lab.\n",
      "27 titles : 과학 영재를 만드는 아두이노 교실(아빠와 함께)(2판) - 최재철 ...\n",
      "28 titles : WO2016018000A1 - 지능형 전기레인지{intelligent electric range ...\n",
      "29 titles : WO2016186456A1 - 셀룰러 사물 인터넷 네트워크에서의 통신을 위한 ...\n",
      "30 titles : Professor\n",
      "31 titles : KR20070037969A - 자연어처리를 이용한 데이터베이스 검색 시스템 ...\n",
      "32 titles : Electrical Engineering/Technology Books: All in 1 - Google Play 앱\n",
      "33 titles : 처음 배우는 딥러닝 수학: 그림으로 이해하고 엑셀로 확인하는 딥러닝 ...\n",
      "34 titles : Gilseung Ahn's Page\n",
      "35 titles : KR20170069198A - Improved resource allocation for device to ...\n",
      "36 titles : Electrical Engineering/Technology Books: All in 1 - Google Play 앱\n",
      "37 titles : 사막서 벼농사를?… UAE서 한국 벼 재배 성공 - 조선일보\n",
      "38 titles : 실현 가능할까? 테슬라, 160만km 주행 가능한 배터리 셀 테스트 중 - M ...\n",
      "39 titles : WO2016018000A1 - 지능형 전기레인지{intelligent electric range ...\n",
      "40 titles : KR20140078766A - 게놈 모델에 대한 데이터 통합을 이용하는 경로 ...\n",
      "41 titles : KR20190010863A - Multiplexing of sub-frames having different sub ...\n",
      "42 titles : 정동원X남승민 영탁 프로듀싱 듀엣곡 짝짝꿍짝 오늘2일 발매 | 텐아시아\n",
      "43 titles : KR20010000959A - 온라인 건축 설계 시스템 및 설계 방법 - Google ...\n",
      "44 titles : 이미지 처리 기초\n",
      "45 titles : 사막서 벼농사를?… UAE서 한국 벼 재배 성공 - 조선일보\n",
      "46 titles : 백신, 성탄 선물 될까... 미국 이르면 연말부터 접종 시작 - 조선일보\n",
      "47 titles : 실현 가능할까? 테슬라, 160만km 주행 가능한 배터리 셀 테스트 중 - M ...\n",
      "48 titles : 무제 - 매드빅터_세미 — Google Arts & Culture\n",
      "49 titles : Yong Ju Jung (정용주)\n",
      "50 titles : Improving Quantum Computation with Classical Machine Learning\n",
      "51 titles : 데이터 스튜디오를 사용하여 BigQuery 데이터 시각화 | Google Cloud\n",
      "52 titles : LLVM (Low Level Virtual Machine)\n",
      "53 titles : 2. 중간 및 최종 프로젝트 결과물 공지 - CskProjectManager\n",
      "54 titles : Gilseung Ahn's Page\n",
      "55 titles : U-Health Embedded System Design - Spring 2017\n",
      "56 titles : OTL amplifier Circuit - Google Play 앱\n",
      "57 titles : KR20190010863A - Multiplexing of sub-frames having different sub ...\n",
      "58 titles : Ju Yong Chang, Ph.D.\n",
      "59 titles : 2. 중간 및 최종 프로젝트 결과물 공지 - CskProjectManager\n",
      "60 titles : Professor\n",
      "61 titles : WO2016186456A1 - 셀룰러 사물 인터넷 네트워크에서의 통신을 위한 ...\n",
      "62 titles : Gilseung Ahn's Page\n",
      "63 titles : Energy Department Green Lights Critical Decision 1 for Versatile ...\n",
      "64 titles : 앙상블\n",
      "65 titles : Energy Department Green Lights Critical Decision 1 for Versatile ...\n",
      "66 titles : 더존비즈온-유니컨버스, 클라우드 사업 제휴 ...\n",
      "67 titles : WO2009107942A2 - 협업 허브 서비스 제공 시스템 및 그 방법 ...\n",
      "68 titles : KR20070037969A - 자연어처리를 이용한 데이터베이스 검색 시스템 ...\n",
      "69 titles : 지역 사회 가치 공유하는 플랫폼 '온굿플레이스' 런칭\n",
      "70 titles : 일상예술창작센터 [Living & Art Creative Center] - material\n",
      "71 titles : 과기부, 내년 소재·부품·장비 R&D 예산 두 배 늘린다 - IT조선 > 기업 ...\n",
      "72 titles : 더존비즈온-유니컨버스, 클라우드 사업 제휴 ...\n",
      "73 titles : 앙상블\n",
      "74 titles : Energy Department Green Lights Critical Decision 1 for Versatile ...\n",
      "75 titles : 앙상블\n",
      "76 titles : Improving Quantum Computation with Classical Machine Learning\n",
      "77 titles : 정동원X남승민 영탁 프로듀싱 듀엣곡 짝짝꿍짝 오늘2일 발매 | 텐아시아\n",
      "78 titles : Cloud Natural Language | Google Cloud\n",
      "79 titles : [SAS로 딥러닝 시작하기#1]기본 DNN, 배치 정규화를 사용한 DNN ...\n",
      "80 titles : Yong Ju Jung (정용주)\n",
      "81 titles : U-Health Embedded System Design - Spring 2017\n",
      "82 titles : 사막서 벼농사를?… UAE서 한국 벼 재배 성공 - 조선일보\n",
      "83 titles : U-Health Embedded System Design - Spring 2017\n",
      "84 titles : 더존비즈온-유니컨버스, 클라우드 사업 제휴 ...\n",
      "85 titles : 과학 영재를 만드는 아두이노 교실(아빠와 함께)(2판) - 최재철 ...\n",
      "86 titles : WO2016186456A1 - 셀룰러 사물 인터넷 네트워크에서의 통신을 위한 ...\n",
      "87 titles : KR20190010863A - Multiplexing of sub-frames having different sub ...\n",
      "88 titles : [SAS로 딥러닝 시작하기#1]기본 DNN, 배치 정규화를 사용한 DNN ...\n",
      "89 titles : 과기부, 내년 소재·부품·장비 R&D 예산 두 배 늘린다 - IT조선 > 기업 ...\n",
      "90 titles : Freelance Africa - Recrutement en Afrique - Google Play 앱\n"
     ]
    }
   ],
   "source": [
    "for x in range(len(df)) :\n",
    "    day = df.iloc[x]\n",
    "    content = day['content']\n",
    "    count   = day['num']*10\n",
    "    result = google_search(content,keys['api_key'],keys['cs'],start=count)\n",
    "    with open('scratched/%s_%d_%d.json'%(content,x,day['num']),'w') as f :\n",
    "        json.dump(result,f)\n",
    "    \n",
    "    links    = []\n",
    "    titles   = []\n",
    "    snippets = []\n",
    "    \n",
    "#     search = result['items']\n",
    "    for res in result['items'] :\n",
    "        links   .append(res['link'])\n",
    "        titles  .append(res['title'])\n",
    "        snippets.append(res['snippet'])\n",
    "    print(x,'titles :',titles[0])        \n",
    "    df.loc[x,'links']  = ','.join(links)\n",
    "    df.loc[x,'titles'] = ','.join(titles)\n",
    "    df.loc[x,'snippet']= ','.join(snippets)"
   ]
  },
  {
   "cell_type": "code",
   "execution_count": 135,
   "metadata": {},
   "outputs": [],
   "source": [
    "df.to_csv('scratched_plan.csv')\n",
    "    "
   ]
  },
  {
   "cell_type": "code",
   "execution_count": null,
   "metadata": {},
   "outputs": [],
   "source": []
  }
 ],
 "metadata": {
  "kernelspec": {
   "display_name": "Python 3",
   "language": "python",
   "name": "python3"
  },
  "language_info": {
   "codemirror_mode": {
    "name": "ipython",
    "version": 3
   },
   "file_extension": ".py",
   "mimetype": "text/x-python",
   "name": "python",
   "nbconvert_exporter": "python",
   "pygments_lexer": "ipython3",
   "version": "3.8.5"
  }
 },
 "nbformat": 4,
 "nbformat_minor": 4
}
